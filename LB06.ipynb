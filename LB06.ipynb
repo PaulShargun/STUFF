{
 "cells": [
  {
   "cell_type": "markdown",
   "id": "c18fa998",
   "metadata": {},
   "source": [
    "# LB06\n",
    "## Shulzhyk Dzmitry"
   ]
  },
  {
   "cell_type": "code",
   "execution_count": 28,
   "id": "f4e2e63d",
   "metadata": {},
   "outputs": [],
   "source": [
    "import math\n",
    "import numpy as np"
   ]
  },
  {
   "cell_type": "code",
   "execution_count": 29,
   "id": "698f6624",
   "metadata": {},
   "outputs": [],
   "source": [
    "k = 8\n",
    "T = 0.01\n",
    "alpha = 0.5 * k\n",
    "h1 = 0.1\n",
    "tau1 = 0.0005\n",
    "h2 = 0.1\n",
    "tau2 = 0.01\n",
    "M = int(1 / h1)\n",
    "N = int(T / tau1)\n",
    "s = tau1/(h1 ** 2)\n",
    "MM = int(1 / h2)\n",
    "NN = int(T/tau2)\n",
    "ss = tau2/(h2 ** 2)"
   ]
  },
  {
   "cell_type": "code",
   "execution_count": 30,
   "id": "3e86f32f",
   "metadata": {},
   "outputs": [],
   "source": [
    "def phi(x,t):\n",
    "    return (-(alpha**2) * t + 1) * (math.e) ** (-alpha * x)"
   ]
  },
  {
   "cell_type": "code",
   "execution_count": 31,
   "id": "60208dbd",
   "metadata": {},
   "outputs": [],
   "source": [
    "def gamma0(t):\n",
    "    return t"
   ]
  },
  {
   "cell_type": "code",
   "execution_count": 32,
   "id": "86ebdfa1",
   "metadata": {},
   "outputs": [],
   "source": [
    "def gamma1(t):\n",
    "    return t * (math.e) ** (-alpha)"
   ]
  },
  {
   "cell_type": "code",
   "execution_count": 33,
   "id": "0511385a",
   "metadata": {},
   "outputs": [],
   "source": [
    "def psi(x):\n",
    "    return 0"
   ]
  },
  {
   "cell_type": "markdown",
   "id": "16a643d6",
   "metadata": {},
   "source": [
    "# Explicit"
   ]
  },
  {
   "cell_type": "code",
   "execution_count": 34,
   "id": "af72a608",
   "metadata": {},
   "outputs": [],
   "source": [
    "x = []\n",
    "t = []\n",
    "for i in range(M + 1):\n",
    "    x.append(i * h1)\n",
    "for i in range(N + 1):\n",
    "    t.append(i * tau1)"
   ]
  },
  {
   "cell_type": "code",
   "execution_count": 35,
   "id": "6240722e",
   "metadata": {},
   "outputs": [],
   "source": [
    "u = np.zeros((N + 1, M + 1))"
   ]
  },
  {
   "cell_type": "code",
   "execution_count": 36,
   "id": "94839381",
   "metadata": {},
   "outputs": [],
   "source": [
    "for i in range(0, M):\n",
    "    u[N-1][i] = psi(x[i]) "
   ]
  },
  {
   "cell_type": "code",
   "execution_count": 37,
   "id": "064e350b",
   "metadata": {},
   "outputs": [],
   "source": [
    "for i in range(N, -1, -1):\n",
    "    u[i][0] = gamma0(t[N-i])"
   ]
  },
  {
   "cell_type": "code",
   "execution_count": 38,
   "id": "007c549e",
   "metadata": {},
   "outputs": [],
   "source": [
    "for i in range(N, -1, -1):\n",
    "    u[i][M-1] = gamma1(t[N-i])"
   ]
  },
  {
   "cell_type": "code",
   "execution_count": 39,
   "id": "b5976005",
   "metadata": {},
   "outputs": [],
   "source": [
    "for i in range(N-2, -1, -1):\n",
    "    for j in range(1, M - 1):\n",
    "        u[i][j] = s * u[i - 1][j + 1] + (1 - 2 * s) * u[i - 1][j] + s * u[i - 1][j - 1] + tau1 * phi(x[j],t[i]) "
   ]
  },
  {
   "cell_type": "code",
   "execution_count": 40,
   "id": "293698bf",
   "metadata": {},
   "outputs": [
    {
     "name": "stdout",
     "output_type": "stream",
     "text": [
      "0.01   0.0003   0.0002   0.0002   0.0001   0.0001   0.0   0.0   0.0   0.0002   0.0   \n",
      "0.0095   0.0008   0.0002   0.0001   0.0001   0.0001   0.0   0.0   0.0   0.0002   0.0   \n",
      "0.009   0.0008   0.0002   0.0001   0.0001   0.0001   0.0   0.0   0.0   0.0002   0.0   \n",
      "0.0085   0.0008   0.0002   0.0001   0.0001   0.0001   0.0   0.0   0.0   0.0002   0.0   \n",
      "0.008   0.0007   0.0002   0.0001   0.0001   0.0001   0.0   0.0   0.0   0.0001   0.0   \n",
      "0.0075   0.0007   0.0002   0.0001   0.0001   0.0001   0.0   0.0   0.0   0.0001   0.0   \n",
      "0.007   0.0007   0.0002   0.0001   0.0001   0.0001   0.0   0.0   0.0   0.0001   0.0   \n",
      "0.0065   0.0007   0.0002   0.0001   0.0001   0.0001   0.0   0.0   0.0   0.0001   0.0   \n",
      "0.006   0.0006   0.0002   0.0001   0.0001   0.0001   0.0   0.0   0.0   0.0001   0.0   \n",
      "0.0055   0.0006   0.0002   0.0001   0.0001   0.0001   0.0   0.0   0.0   0.0001   0.0   \n",
      "0.005   0.0006   0.0002   0.0001   0.0001   0.0001   0.0   0.0   0.0   0.0001   0.0   \n",
      "0.0045   0.0006   0.0002   0.0001   0.0001   0.0001   0.0   0.0   0.0   0.0001   0.0   \n",
      "0.004   0.0005   0.0002   0.0001   0.0001   0.0001   0.0   0.0   0.0   0.0001   0.0   \n",
      "0.0035   0.0005   0.0002   0.0001   0.0001   0.0001   0.0   0.0   0.0   0.0001   0.0   \n",
      "0.003   0.0005   0.0002   0.0001   0.0001   0.0001   0.0   0.0   0.0   0.0001   0.0   \n",
      "0.0025   0.0004   0.0002   0.0001   0.0001   0.0001   0.0   0.0   0.0   0.0   0.0   \n",
      "0.002   0.0004   0.0002   0.0001   0.0001   0.0001   0.0   0.0   0.0   0.0   0.0   \n",
      "0.0015   0.0004   0.0002   0.0001   0.0001   0.0001   0.0   0.0   0.0   0.0   0.0   \n",
      "0.001   0.0004   0.0002   0.0001   0.0001   0.0001   0.0   0.0   0.0   0.0   0.0   \n",
      "0.0005    0.0    0.0    0.0    0.0    0.0    0.0    0.0    0.0    1e-05    0.0    \n",
      "0.0   0.0   0.0   0.0   0.0   0.0   0.0   0.0   0.0   0.0   0.0   \n"
     ]
    }
   ],
   "source": [
    "for i in range(0, N + 1):\n",
    "    for j in range(0, M + 1):\n",
    "        if i == N-1:\n",
    "            print(round(u[i][j], 5), end = '    ')\n",
    "        else:\n",
    "            print(round(u[i][j], 4), end = '   ')\n",
    "    print()"
   ]
  },
  {
   "cell_type": "markdown",
   "id": "d48852c0",
   "metadata": {},
   "source": [
    "# Implicit"
   ]
  },
  {
   "cell_type": "code",
   "execution_count": 43,
   "id": "c4239a7e",
   "metadata": {},
   "outputs": [],
   "source": [
    "A = np.zeros((9,9))\n",
    "v = []"
   ]
  },
  {
   "cell_type": "code",
   "execution_count": 44,
   "id": "4724e4a5",
   "metadata": {},
   "outputs": [],
   "source": [
    "v = []\n",
    "for i in range(0, 9):\n",
    "    v.append(-tau2 * phi(x[i],t[0]) - u[N][i])\n",
    "v[0] = v[0] - ss * u[N - 1][0]\n",
    "v[8] = v[8] - ss * u[N - 1][9]"
   ]
  },
  {
   "cell_type": "code",
   "execution_count": 45,
   "id": "b5376eb7",
   "metadata": {},
   "outputs": [],
   "source": [
    "A[0][0] = -(1 + 2 * ss)\n",
    "A[0][1] = ss\n",
    "\n",
    "A[1][0] = ss\n",
    "A[1][1] = -(1 + 2 * ss)\n",
    "A[1][2] = ss\n",
    "\n",
    "A[2][1] = ss\n",
    "A[2][2] = -(1 + 2 * ss)\n",
    "A[2][3] = ss\n",
    "\n",
    "A[3][2] = ss\n",
    "A[3][3] = -(1 + 2 * ss)\n",
    "A[3][4] = ss\n",
    "\n",
    "A[4][3] = ss\n",
    "A[4][4] = -(1 + 2 * ss)\n",
    "A[4][5] = ss\n",
    "\n",
    "A[5][4] = ss\n",
    "A[5][5] = -(1 + 2 * ss)\n",
    "A[5][6] = ss\n",
    "\n",
    "A[6][5] = ss\n",
    "A[6][6] = -(1 + 2 * ss)\n",
    "A[6][7] = ss\n",
    "\n",
    "A[7][6] = ss\n",
    "A[7][7] = -(1 + 2 * ss)\n",
    "A[7][8] = ss\n",
    "\n",
    "A[8][7] = ss\n",
    "A[8][8] = -(1 + 2 * ss)\n"
   ]
  },
  {
   "cell_type": "code",
   "execution_count": 48,
   "id": "43993a42",
   "metadata": {},
   "outputs": [],
   "source": [
    "u1 = np.linalg.solve(A, v)[0]\n",
    "uLast = np.linalg.solve(A, v)[8]"
   ]
  },
  {
   "cell_type": "code",
   "execution_count": 50,
   "id": "c8ec81af",
   "metadata": {},
   "outputs": [
    {
     "data": {
      "text/plain": [
       "0.0053251604917405986"
      ]
     },
     "execution_count": 50,
     "metadata": {},
     "output_type": "execute_result"
    }
   ],
   "source": [
    "u1"
   ]
  },
  {
   "cell_type": "code",
   "execution_count": 51,
   "id": "75543cec",
   "metadata": {},
   "outputs": [
    {
     "data": {
      "text/plain": [
       "0.0003628815600926838"
      ]
     },
     "execution_count": 51,
     "metadata": {},
     "output_type": "execute_result"
    }
   ],
   "source": [
    "uLast"
   ]
  },
  {
   "cell_type": "code",
   "execution_count": 52,
   "id": "6a0cc480",
   "metadata": {},
   "outputs": [
    {
     "data": {
      "text/plain": [
       "0.0"
      ]
     },
     "execution_count": 52,
     "metadata": {},
     "output_type": "execute_result"
    }
   ],
   "source": [
    "u[N][0]"
   ]
  },
  {
   "cell_type": "code",
   "execution_count": null,
   "id": "d1d4cc07",
   "metadata": {},
   "outputs": [],
   "source": []
  }
 ],
 "metadata": {
  "kernelspec": {
   "display_name": "Python 3 (ipykernel)",
   "language": "python",
   "name": "python3"
  },
  "language_info": {
   "codemirror_mode": {
    "name": "ipython",
    "version": 3
   },
   "file_extension": ".py",
   "mimetype": "text/x-python",
   "name": "python",
   "nbconvert_exporter": "python",
   "pygments_lexer": "ipython3",
   "version": "3.9.12"
  }
 },
 "nbformat": 4,
 "nbformat_minor": 5
}
