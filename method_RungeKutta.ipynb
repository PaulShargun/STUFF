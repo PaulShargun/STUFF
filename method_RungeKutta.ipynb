{
 "cells": [
  {
   "cell_type": "markdown",
   "id": "1633537c",
   "metadata": {},
   "source": [
    "# lab 2\n",
    "## Shargun Pavel"
   ]
  },
  {
   "cell_type": "code",
   "execution_count": 1,
   "id": "4e8d8dcc",
   "metadata": {},
   "outputs": [],
   "source": [
    "import numpy as np\n",
    "from matplotlib import pyplot as plt"
   ]
  },
  {
   "cell_type": "markdown",
   "id": "a0764dad",
   "metadata": {},
   "source": [
    "### pg. 219 № 58"
   ]
  },
  {
   "cell_type": "code",
   "execution_count": 10,
   "id": "4f09ed2d",
   "metadata": {},
   "outputs": [],
   "source": [
    "h = 0.1\n",
    "k = 3\n",
    "n = 3\n",
    "alpha = 1 + 0.2 * k \n",
    "\n",
    "def f(x, y, z):\n",
    "    return -2 * alpha * x * y ** 2 + z ** 2 - x ** 2 - 1\n",
    "\n",
    "def g(x, y, z):\n",
    "    return 1 / (alpha * z ** 2) - y - x / z\n",
    "\n",
    "x = []\n",
    "x.append(0)\n",
    "y = []\n",
    "y.append(1 / alpha)\n",
    "z = []\n",
    "z.append(1)\n",
    "deltaY = []\n",
    "deltaZ = []"
   ]
  },
  {
   "cell_type": "code",
   "execution_count": 15,
   "id": "54c43a39",
   "metadata": {},
   "outputs": [
    {
     "name": "stdout",
     "output_type": "stream",
     "text": [
      "x0 = 0; y0 = 0.625; z0  = 1\n",
      "x0 = 0.0; y0 = 0.6181723161502405; z0  = 0.9954086920989513\n",
      "x0 = 0.1; y0 = 0.6181723161502405; z0  = 0.9954086920989513\n",
      "x0 = 0.2; y0 = 0.611344632300481; z0  = 0.9908173841979027\n"
     ]
    }
   ],
   "source": [
    "k1 = []\n",
    "l1 = []\n",
    "k2 = []\n",
    "l2 = []\n",
    "k3 = []\n",
    "l3 = []\n",
    "k4 = []\n",
    "l4 = []\n",
    "for i in (1, 2, 3 ,4):\n",
    "    x.append(x[0] + i * h)\n",
    "    \n",
    "    k1.append(h * f(x[i - 1], y[i - 1], z[i - 1]))\n",
    "    l1.append(h * g(x[i - 1], y[i - 1], z[i - 1]))\n",
    "    k2.append(h * f(x[i - 1] + h / 2, y[i - 1] + (1 / 2) * k1[i - 1 ], z[i - 1] + (1 / 2) * l1[i - 1]))\n",
    "    l2.append(h * g(x[i - 1] + h / 2, y[i - 1] + (1 / 2) * k1[i - 1 ], z[i - 1] + (1 / 2) * l1[i - 1]))\n",
    "    k3.append(h * f(x[i - 1] + h / 2, y[i - 1] + (1 / 2) * k2[i - 1 ], z[i - 1] + (1 / 2) * l2[i - 1]))\n",
    "    l3.append(h * g(x[i - 1] + h / 2, y[i - 1] + (1 / 2) * k2[i - 1 ], z[i - 1] + (1 / 2) * l2[i - 1]))\n",
    "    k4.append(h * f(x[i - 1] + h, y[i - 1] + k3[i - 1], z[i - 1] + l3[i - 1]))\n",
    "    l4.append(h * g(x[i - 1] + h, y[i - 1] + k3[i - 1], z[i - 1] + l3[i - 1]))\n",
    "    \n",
    "    deltaY.append(1 / 6 * (k1[i - 1] + 2 * k2[i - 1] + 2 * k3[i - 1] + k4[i - 1]))\n",
    "    deltaZ.append(1 / 6 * (l1[i - 1] + 2 * l2[i - 1] + 2 * l3[i - 1] + l4[i - 1]))\n",
    "    \n",
    "    y.append(y[i ] + deltaY[i - 1])\n",
    "    z.append(z[i - 1] + deltaZ[i - 1])\n",
    "    \n",
    "    print(f'x0 = {x[i - 1]}; y0 = {y[i - 1]}; z0  = {z[i - 1]}')"
   ]
  }
 ],
 "metadata": {
  "kernelspec": {
   "display_name": "Python 3 (ipykernel)",
   "language": "python",
   "name": "python3"
  },
  "language_info": {
   "codemirror_mode": {
    "name": "ipython",
    "version": 3
   },
   "file_extension": ".py",
   "mimetype": "text/x-python",
   "name": "python",
   "nbconvert_exporter": "python",
   "pygments_lexer": "ipython3",
   "version": "3.9.12"
  }
 },
 "nbformat": 4,
 "nbformat_minor": 5
}
